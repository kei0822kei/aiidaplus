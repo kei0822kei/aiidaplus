{
 "cells": [
  {
   "cell_type": "markdown",
   "metadata": {},
   "source": [
    "# This jupyter notebook provides various analysis about shear results"
   ]
  },
  {
   "cell_type": "code",
   "execution_count": 155,
   "metadata": {},
   "outputs": [
    {
     "name": "stdout",
     "output_type": "stream",
     "text": [
      "The autoreload extension is already loaded. To reload it, use:\n",
      "  %reload_ext autoreload\n"
     ]
    }
   ],
   "source": [
    "%aiida\n",
    "%load_ext autoreload\n",
    "%autoreload 2"
   ]
  },
  {
   "cell_type": "markdown",
   "metadata": {},
   "source": [
    "## imports and settings"
   ]
  },
  {
   "cell_type": "code",
   "execution_count": 156,
   "metadata": {},
   "outputs": [],
   "source": [
    "import os\n",
    "import yaml\n",
    "import numpy as np\n",
    "from pprint import pprint\n",
    "from matplotlib import pyplot as plt\n",
    "from aiidaplus.plot import line_chart, band_plot, band_plots\n",
    "from aiidaplus.get_data import get_phonon_data\n",
    "from aiidaplus.utils import (get_qpoints_from_band_labels,\n",
    "                             get_default_labels_of_twinmode)\n",
    "\n",
    "shear_dir = os.path.join('..', 'data', 'shear')"
   ]
  },
  {
   "cell_type": "markdown",
   "metadata": {},
   "source": [
    "## extract yaml files"
   ]
  },
  {
   "cell_type": "code",
   "execution_count": 157,
   "metadata": {},
   "outputs": [],
   "source": [
    "yamlfiles = [ name for name in os.listdir(shear_dir) if 'yaml' in name ]\n",
    "yamlfiles.sort()\n",
    "shears = []\n",
    "for yamlfile in yamlfiles:\n",
    "    with open(os.path.join(shear_dir, yamlfile)) as f:\n",
    "        shears.append(yaml.load(f, Loader=yaml.SafeLoader))"
   ]
  },
  {
   "cell_type": "markdown",
   "metadata": {},
   "source": [
    "## data details"
   ]
  },
  {
   "cell_type": "code",
   "execution_count": 158,
   "metadata": {},
   "outputs": [
    {
     "name": "stdout",
     "output_type": "stream",
     "text": [
      "# keys of each shear data\n",
      "dict_keys(['calculator_settings', 'parent', 'phonon_pks', 'pk', 'relax_pks', 'relax_results', 'shear_conf', 'shear_ratios', 'strain'])\n",
      "\n",
      "# calculator_settings\n",
      "{'phonon': {'incar_settings': {'addgrid': True,\n",
      "                               'ediff': 1e-08,\n",
      "                               'encut': 300,\n",
      "                               'gga': 'PS',\n",
      "                               'ialgo': 38,\n",
      "                               'ismear': 1,\n",
      "                               'kpar': 2,\n",
      "                               'lcharg': False,\n",
      "                               'lreal': False,\n",
      "                               'lwave': False,\n",
      "                               'npar': 4,\n",
      "                               'prec': 'Accurate',\n",
      "                               'sigma': 0.2},\n",
      "            'kpoints': {'mesh': [5, 5, 5], 'offset': [0, 0, 0.5]},\n",
      "            'options': {'max_wallclock_seconds': 36000, 'queue_name': ''},\n",
      "            'phonon_conf': {'distance': 0.02,\n",
      "                            'mesh': [18, 18, 10],\n",
      "                            'supercell_matrix': [4, 4, 3],\n",
      "                            'symmetry_tolerance': 1e-05},\n",
      "            'potential_family': 'PBE.54',\n",
      "            'potential_mapping': {'Ti': 'Ti_pv'},\n",
      "            'vasp_code': 'vasp544mpi'},\n",
      " 'relax': {'clean_workdir': False,\n",
      "           'incar_settings': {'addgrid': True,\n",
      "                              'ediff': 1e-08,\n",
      "                              'encut': 300,\n",
      "                              'gga': 'PS',\n",
      "                              'ialgo': 38,\n",
      "                              'ismear': 1,\n",
      "                              'kpar': 2,\n",
      "                              'lcharg': False,\n",
      "                              'lreal': False,\n",
      "                              'lwave': False,\n",
      "                              'npar': 4,\n",
      "                              'prec': 'Accurate',\n",
      "                              'sigma': 0.2},\n",
      "           'kpoints': {'mesh': [20, 20, 15], 'offset': [0, 0, 0.5]},\n",
      "           'options': {'max_wallclock_seconds': 36000, 'queue_name': ''},\n",
      "           'potential_family': 'PBE.54',\n",
      "           'potential_mapping': {'Ti': 'Ti_pv'},\n",
      "           'relax_conf': {'convergence_absolute': False,\n",
      "                          'convergence_max_iterations': 10,\n",
      "                          'convergence_on': True,\n",
      "                          'convergence_positions': 0.01,\n",
      "                          'force_cutoff': 1e-07,\n",
      "                          'steps': 40},\n",
      "           'vasp_code': 'vasp544mpi'}}\n",
      "\n",
      "# parent\n",
      "{'data_type': 'StructureData',\n",
      " 'hall': '-P 6c 2c',\n",
      " 'hall_number': 488,\n",
      " 'international': 'P6_3/mmc',\n",
      " 'lattice': [[1.44726896, -2.50674337, 0.0],\n",
      "             [1.44726896, 2.50674337, 0.0],\n",
      "             [0.0, 0.0, 4.58154364]],\n",
      " 'lattice_abc': [2.8945379191882146, 2.8945379191882146, 4.58154364],\n",
      " 'lattice_angles': [90.0, 90.0, 119.9999999814453],\n",
      " 'natoms': 2,\n",
      " 'pk': 12322,\n",
      " 'pointgroup': '6/mmm',\n",
      " 'site_symmetry_symbols': ['-6m2', '-6m2'],\n",
      " 'symprec': 1e-05,\n",
      " 'volume': 33.24305637149892,\n",
      " 'wyckoffs': ['c', 'c']}\n",
      "\n",
      "# phonon_pks\n",
      "[13723,\n",
      " 13730,\n",
      " 13738,\n",
      " 13753,\n",
      " 13773,\n",
      " 13801,\n",
      " 13838,\n",
      " 13880,\n",
      " 13917,\n",
      " 13951,\n",
      " 13982,\n",
      " 14005,\n",
      " 14021,\n",
      " 14046,\n",
      " 14076,\n",
      " 14104,\n",
      " 14130,\n",
      " 14159,\n",
      " 14193,\n",
      " 14217,\n",
      " 14241]\n",
      "\n",
      "# relax_pks\n",
      "[12367,\n",
      " 12394,\n",
      " 12422,\n",
      " 12453,\n",
      " 12484,\n",
      " 12513,\n",
      " 12543,\n",
      " 12572,\n",
      " 12601,\n",
      " 12629,\n",
      " 12659,\n",
      " 12687,\n",
      " 12717,\n",
      " 12746,\n",
      " 12775,\n",
      " 12806,\n",
      " 12837,\n",
      " 12863,\n",
      " 12893,\n",
      " 12919,\n",
      " 12949]\n",
      "\n",
      "# relax_results\n",
      "{'energies': [-16.6188262,\n",
      "              -16.6183271,\n",
      "              -16.61682996,\n",
      "              -16.61471403,\n",
      "              -16.61148301,\n",
      "              -16.60624978,\n",
      "              -16.60211253,\n",
      "              -16.59599633,\n",
      "              -16.58887812,\n",
      "              -16.58082246,\n",
      "              -16.57181564,\n",
      "              -16.56197935,\n",
      "              -16.55130864,\n",
      "              -16.53983506,\n",
      "              -16.52768493,\n",
      "              -16.5149278,\n",
      "              -16.50159954,\n",
      "              -16.48782284,\n",
      "              -16.47363576,\n",
      "              -16.45923719,\n",
      "              -16.43032516]}\n",
      "\n",
      "# shear_conf\n",
      "{'grids': 21, 'is_primitive': True, 'twinmode': '10-12'}\n",
      "\n",
      "# shear_ratios\n",
      "[0.0,\n",
      " 0.05,\n",
      " 0.1,\n",
      " 0.15,\n",
      " 0.2,\n",
      " 0.25,\n",
      " 0.3,\n",
      " 0.35,\n",
      " 0.4,\n",
      " 0.45,\n",
      " 0.5,\n",
      " 0.55,\n",
      " 0.6,\n",
      " 0.65,\n",
      " 0.7,\n",
      " 0.75,\n",
      " 0.8,\n",
      " 0.85,\n",
      " 0.9,\n",
      " 0.95,\n",
      " 1.0]\n",
      "\n",
      "# strain\n",
      "0.18043517167635\n",
      "\n"
     ]
    }
   ],
   "source": [
    "print(\"# keys of each shear data\")\n",
    "print(shears[0].keys())\n",
    "print(\"\")\n",
    "\n",
    "print(\"# calculator_settings\")\n",
    "pprint(shears[0]['calculator_settings'])\n",
    "print(\"\")\n",
    "\n",
    "for key in ['parent', 'phonon_pks', 'relax_pks', 'relax_results', 'shear_conf', 'shear_ratios', 'strain']:\n",
    "    print(\"# \"+key)\n",
    "    pprint(shears[0][key])\n",
    "    print(\"\")"
   ]
  },
  {
   "cell_type": "markdown",
   "metadata": {},
   "source": [
    "## energies"
   ]
  },
  {
   "cell_type": "code",
   "execution_count": 159,
   "metadata": {},
   "outputs": [
    {
     "data": {
      "image/png": "[encoded data removed]",
      "text/plain": [
       "<Figure size 432x288 with 1 Axes>"
      ]
     },
     "metadata": {
      "needs_background": "light"
     },
     "output_type": "display_data"
    }
   ],
   "source": [
    "fig = plt.figure()\n",
    "ax = fig.add_subplot(111)\n",
    "pks = []\n",
    "for shear in shears:\n",
    "    pks.append(shear['pk'])\n",
    "    line_chart(\n",
    "            ax,\n",
    "            shear['strain'] * np.array(shear['shear_ratios']),\n",
    "            (np.array(shear['relax_results']['energies']) \\\n",
    "                - shear['relax_results']['energies'][0]) \\\n",
    "                  * 1000 / shear['parent']['natoms'],\n",
    "            \"strain (angstrom)\",\n",
    "            \"energy (meV / atom)\",\n",
    "            label = 'pk:' + str(shear['pk'])\n",
    "            )\n",
    "ax.legend()\n",
    "fig.suptitle('shear result pk: %s' % pks)\n",
    "plt.show()"
   ]
  },
  {
   "cell_type": "markdown",
   "metadata": {},
   "source": [
    "## band strcutures"
   ]
  },
  {
   "cell_type": "code",
   "execution_count": null,
   "metadata": {},
   "outputs": [
    {
     "name": "stdout",
     "output_type": "stream",
     "text": [
      "phonon calc seems to have failed pk:13982\n",
      "phonon calc seems to have failed pk:14193\n"
     ]
    }
   ],
   "source": [
    "labels = get_default_labels_of_twinmode(shears[0]['shear_conf']['twinmode'])\n",
    "pmgstructure = load_node(shears[0]['parent']['pk']).get_pymatgen_structure()\n",
    "qpoints = get_qpoints_from_band_labels(pmgstructure, labels)\n",
    "\n",
    "shear_phonons = []\n",
    "for shear in shears:\n",
    "    phonons = []\n",
    "    for pk in shear['phonon_pks']:\n",
    "        try:\n",
    "            _, phonon = get_phonon_data(pk, get_phonon=True)\n",
    "        except:\n",
    "            print(\"phonon calc seems to have failed pk:{}\".format(pk))\n",
    "        phonons.append(phonon)\n",
    "    shear_phonons.append(phonons)"
   ]
  },
  {
   "cell_type": "code",
   "execution_count": null,
   "metadata": {},
   "outputs": [],
   "source": [
    "fig = plt.figure()\n",
    "ax = fig.add_subplot(111)\n",
    "band_plots(ax, shear_phonons[0][0:2], band_labels=labels, segment_qpoints=qpoints)\n",
    "# band_plot(ax, shear_phonons[0][0], is_auto=True)"
   ]
  },
  {
   "cell_type": "code",
   "execution_count": 154,
   "metadata": {},
   "outputs": [
    {
     "name": "stdout",
     "output_type": "stream",
     "text": [
      "# band path is set automalically\n"
     ]
    },
    {
     "data": {
      "image/png": "[encoded data removed]",
      "text/plain": [
       "<Figure size 432x288 with 1 Axes>"
      ]
     },
     "metadata": {
      "needs_background": "light"
     },
     "output_type": "display_data"
    }
   ],
   "source": [
    "fig = plt.figure()\n",
    "ax = fig.add_subplot(111)\n",
    "band_plots(ax, [shear_phonons[0][0]], is_auto=True)"
   ]
  },
  {
   "cell_type": "code",
   "execution_count": 165,
   "metadata": {},
   "outputs": [
    {
     "name": "stdout",
     "output_type": "stream",
     "text": [
      "[(68,), (55,), (68,), (101,), (55,), (101,)]\n",
      "[(101,), (48,), (101,), (87,), (48,), (87,)]\n"
     ]
    }
   ],
   "source": [
    "print([ distance.shape for distance in distances ])\n",
    "print([ base_distance.shape for base_distance in base_distances ])"
   ]
  },
  {
   "cell_type": "code",
   "execution_count": 173,
   "metadata": {},
   "outputs": [],
   "source": []
  },
  {
   "cell_type": "code",
   "execution_count": 175,
   "metadata": {},
   "outputs": [],
   "source": []
  },
  {
   "cell_type": "code",
   "execution_count": 188,
   "metadata": {},
   "outputs": [
    {
     "data": {
      "text/plain": [
       "[[0.1335736603447281,\n",
       "  0.10864415052480553,\n",
       "  0.13357366034472826,\n",
       "  0.19968698795697076,\n",
       "  0.10864415052480814,\n",
       "  0.1996869879569707],\n",
       " [0.2303188575445012,\n",
       "  0.10913352339038335,\n",
       "  0.2303188575444996,\n",
       "  0.19946198156685635,\n",
       "  0.10913352339038163,\n",
       "  0.19946198156685246]]"
      ]
     },
     "execution_count": 188,
     "metadata": {},
     "output_type": "execute_result"
    }
   ],
   "source": [
    "segment_lengths"
   ]
  },
  {
   "cell_type": "code",
   "execution_count": 192,
   "metadata": {},
   "outputs": [],
   "source": [
    "segment_lengths = []\n",
    "for ds in [distances, base_distances]:\n",
    "    lengths = []\n",
    "    init = 0\n",
    "    for d in ds:\n",
    "        lengths.append(d[-1]-init)\n",
    "        init = d[-1]\n",
    "    segment_lengths.append(lengths)\n",
    "ratios = np.array(segment_lengths)[0] /  np.array(segment_lengths)[1]\n",
    "revised = []\n",
    "seg_start = 0\n",
    "for i, distance in enumerate(distances):\n",
    "    if i == 0:\n",
    "        revised.append(distance / ratios[i])\n",
    "    else:\n",
    "        revised.append(seg_start+(distance-distances[i-1][-1]) / ratios[i])\n",
    "    seg_start = revised[-1][-1]"
   ]
  },
  {
   "cell_type": "code",
   "execution_count": 193,
   "metadata": {},
   "outputs": [
    {
     "name": "stdout",
     "output_type": "stream",
     "text": [
      "0.2303188575445012\n",
      "0.23031885754450118\n",
      "0.33945238093488456\n",
      "0.3394523809348845\n",
      "0.5697712384793842\n",
      "0.569771238479384\n",
      "0.7692332200462405\n",
      "0.7692332200462404\n",
      "0.8783667434366221\n",
      "0.878366743436622\n",
      "1.0778287250034746\n",
      "1.0778287250034744\n"
     ]
    }
   ],
   "source": [
    "for i in range(len(base_distances)):\n",
    "    print(base_distances[i][-1])\n",
    "    print(revised[i][-1])"
   ]
  },
  {
   "cell_type": "code",
   "execution_count": null,
   "metadata": {},
   "outputs": [],
   "source": []
  }
 ],
 "metadata": {
  "kernelspec": {
   "display_name": "aiida",
   "language": "python",
   "name": "aiida"
  },
  "language_info": {
   "codemirror_mode": {
    "name": "ipython",
    "version": 3
   },
   "file_extension": ".py",
   "mimetype": "text/x-python",
   "name": "python",
   "nbconvert_exporter": "python",
   "pygments_lexer": "ipython3",
   "version": "3.7.0"
  }
 },
 "nbformat": 4,
 "nbformat_minor": 4
}
